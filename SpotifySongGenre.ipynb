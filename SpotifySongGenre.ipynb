{
 "cells": [
  {
   "cell_type": "markdown",
   "metadata": {},
   "source": [
    "# Music Recommendation System"
   ]
  },
  {
   "cell_type": "markdown",
   "metadata": {},
   "source": [
    "**Important:** Please run the cells in this notebook in order from top to bottom to avoid errors. Each cell depends on the variables and objects created in the previous cells."
   ]
  },
  {
   "cell_type": "markdown",
   "metadata": {},
   "source": [
    "## 1. Data Loading and Pre-processing"
   ]
  },
  {
   "cell_type": "code",
   "execution_count": null,
   "metadata": {},
   "outputs": [],
   "source": [
    "import pandas as pd",
    "import numpy as np",
    "import seaborn as sns",
    "import matplotlib.pyplot as plt",
    "from sklearn.preprocessing import StandardScaler",
    "from sklearn.cluster import KMeans",
    "from sklearn.decomposition import PCA",
    "",
    "df = pd.read_csv(\"spotify_dataset.csv\")",
    "",
    "# Drop rows with missing values",
    "df = df.dropna()",
    "",
    "# Remove duplicate rows",
    "df = df.drop_duplicates()",
    "",
    "print(\"Data loaded and pre-processed. Shape: \", df.shape)"
   ]
  },
  {
   "cell_type": "markdown",
   "metadata": {},
   "source": [
    "## 2. Correlation Matrix of Features"
   ]
  },
  {
   "cell_type": "code",
   "execution_count": null,
   "metadata": {},
   "outputs": [],
   "source": [
    "# Select numerical columns for correlation matrix",
    "numerical_df = df.select_dtypes(include=['float64', 'int64'])",
    "",
    "# Calculate correlation matrix",
    "corr = numerical_df.corr()",
    "",
    "# Plot heatmap",
    "plt.figure(figsize=(12, 10))",
    "sns.heatmap(corr, annot=True, cmap='coolwarm', fmt=\".2f\")",
    "plt.title('Correlation Matrix of Numerical Features')",
    "plt.show()"
   ]
  },
  {
   "cell_type": "markdown",
   "metadata": {},
   "source": [
    "## 3. Finding Optimal Number of Clusters (Elbow Method)"
   ]
  },
  {
   "cell_type": "code",
   "execution_count": null,
   "metadata": {},
   "outputs": [],
   "source": [
    "# Scale the features",
    "scaler = StandardScaler()",
    "scaled_features = scaler.fit_transform(numerical_df)",
    "",
    "# Find the optimal number of clusters using the elbow method",
    "inertia = []",
    "K = range(1, 11)",
    "for k in K:",
    "    kmeans = KMeans(n_clusters=k, random_state=42, n_init=10)",
    "    kmeans.fit(scaled_features)",
    "    inertia.append(kmeans.inertia_)",
    "",
    "# Plot the elbow curve",
    "plt.figure(figsize=(8, 6))",
    "plt.plot(K, inertia, 'bx-')",
    "plt.xlabel('k')",
    "plt.ylabel('Inertia')",
    "plt.title('Elbow Method For Optimal k')",
    "plt.show()"
   ]
  },
  {
   "cell_type": "markdown",
   "metadata": {},
   "source": [
    "## 4. K-Means Clustering and Visualization"
   ]
  },
  {
   "cell_type": "code",
   "execution_count": null,
   "metadata": {},
   "outputs": [],
   "source": [
    "# Perform K-Means clustering",
    "k = 4",
    "kmeans = KMeans(n_clusters=k, random_state=42, n_init=10)",
    "df['cluster'] = kmeans.fit_predict(scaled_features)",
    "",
    "# Reduce dimensionality using PCA",
    "pca = PCA(n_components=2)",
    "principal_components = pca.fit_transform(scaled_features)",
    "",
    "# Create a DataFrame with the principal components and cluster labels",
    "pca_df = pd.DataFrame(data = principal_components, columns = ['principal component 1', 'principal component 2'])",
    "pca_df['cluster'] = df['cluster']",
    "",
    "# Plot the clusters",
    "plt.figure(figsize=(10, 8))",
    "sns.scatterplot(x='principal component 1', y='principal component 2', hue='cluster', data=pca_df, palette='viridis')",
    "plt.title('Clusters of Songs')",
    "plt.show()"
   ]
  },
  {
   "cell_type": "markdown",
   "metadata": {},
   "source": [
    "## 5. Cluster Analysis"
   ]
  },
  {
   "cell_type": "code",
   "execution_count": null,
   "metadata": {},
   "outputs": [],
   "source": [
    "# Analyze clusters by playlist genre",
    "print(\"Cluster distribution by playlist genre:\")",
    "print(df.groupby(['cluster', 'playlist_genre']).size().unstack(fill_value=0))",
    "",
    "# Analyze clusters by playlist name (top 5 per cluster)",
    "print(\"\nTop 5 playlist names per cluster:\")",
    "for i in range(k):",
    "    print(f\"\nCluster {i}:\")",
    "    playlist_counts = df[df['cluster'] == i].groupby('playlist_name').size().nlargest(5)",
    "    print(playlist_counts)"
   ]
  },
  {
   "cell_type": "markdown",
   "metadata": {},
   "source": [
    "## 6. Recommendation Model"
   ]
  },
  {
   "cell_type": "code",
   "execution_count": null,
   "metadata": {},
   "outputs": [],
   "source": [
    "def recommend_songs(track_name, df):",
    "    \"\"\"Recommends songs from the same cluster as the input song.\"\"\"",
    "    try:",
    "        cluster = df[df['track_name'] == track_name]['cluster'].iloc[0]",
    "        recommended_songs = df[df['cluster'] == cluster].sample(5)['track_name']",
    "        return recommended_songs",
    "    except IndexError:",
    "        return \"Song not found.\"",
    "",
    "# Example usage:",
    "print(\"Recommendations for 'bad guy':\")",
    "print(recommend_songs('bad guy', df))"
   ]
  }
 ],
 "metadata": {
  "kernelspec": {
   "display_name": "Python 3",
   "language": "python",
   "name": "python3"
  },
  "language_info": {
   "codemirror_mode": {
    "name": "ipython",
    "version": 3
   },
   "file_extension": ".py",
   "mimetype": "text/x-python",
   "name": "python",
   "nbconvert_exporter": "python",
   "pygments_lexer": "ipython3",
   "version": "3.12.2"
  }
 },
 "nbformat": 4,
 "nbformat_minor": 4
}